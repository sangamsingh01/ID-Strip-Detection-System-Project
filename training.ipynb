{
 "cells": [
  {
   "cell_type": "markdown",
   "id": "16332821",
   "metadata": {},
   "source": [
    "# Training of Dataset "
   ]
  },
  {
   "cell_type": "markdown",
   "id": "8d306e4d",
   "metadata": {},
   "source": [
    "## Importing some model and library"
   ]
  },
  {
   "cell_type": "code",
   "execution_count": 1,
   "id": "ebe7dad9",
   "metadata": {},
   "outputs": [],
   "source": [
    "import tensorflow as tf\n",
    "from tensorflow import keras\n",
    "from keras import Sequential\n",
    "from keras.layers import Dense,Conv2D,MaxPooling2D,Flatten,BatchNormalization,Dropout\n",
    "from tensorflow.keras import layers"
   ]
  },
  {
   "cell_type": "markdown",
   "id": "19b6c1d7",
   "metadata": {},
   "source": [
    "### Generators to load large file easily"
   ]
  },
  {
   "cell_type": "code",
   "execution_count": 2,
   "id": "6c6b1c3b",
   "metadata": {},
   "outputs": [
    {
     "name": "stdout",
     "output_type": "stream",
     "text": [
      "Found 450 files belonging to 2 classes.\n",
      "Found 120 files belonging to 2 classes.\n"
     ]
    }
   ],
   "source": [
    "train_ds = keras.utils.image_dataset_from_directory(\n",
    "    directory = r'C:\\Users\\sanga\\Documents\\IDetection Project\\train',\n",
    "    labels='inferred',\n",
    "    label_mode = 'int',\n",
    "    batch_size=4,\n",
    "    image_size=(400,1200)\n",
    ")\n",
    "\n",
    "validation_ds = keras.utils.image_dataset_from_directory(\n",
    "    directory = r'C:\\Users\\sanga\\Documents\\IDetection Project\\test',\n",
    "    labels='inferred',\n",
    "    label_mode = 'int',\n",
    "    batch_size=4,\n",
    "    image_size=(400,1200)\n",
    ")"
   ]
  },
  {
   "cell_type": "markdown",
   "id": "7325b791",
   "metadata": {},
   "source": [
    "### Normalize to keep value between 0 to 1"
   ]
  },
  {
   "cell_type": "code",
   "execution_count": 3,
   "id": "5fad7574",
   "metadata": {},
   "outputs": [],
   "source": [
    "def process(image,label):\n",
    "    image = tf.cast(image/255. ,tf.float32)\n",
    "    return image,label\n",
    "\n",
    "train_ds = train_ds.map(process)\n",
    "validation_ds = validation_ds.map(process)"
   ]
  },
  {
   "cell_type": "markdown",
   "id": "e762345b",
   "metadata": {},
   "source": [
    "### Creating a CNN model "
   ]
  },
  {
   "cell_type": "code",
   "execution_count": 28,
   "id": "6c0f0fef",
   "metadata": {},
   "outputs": [],
   "source": [
    "model = Sequential()\n",
    "\n",
    "model.add(Conv2D(32,kernel_size=(3,3),padding='valid',activation='relu',input_shape=(400,1200,3)))\n",
    "\n",
    "model.add(MaxPooling2D(pool_size=(2,2),strides=2,padding='valid'))\n",
    "\n",
    "model.add(Conv2D(64,kernel_size=(3,3),padding='valid',activation='relu'))\n",
    "\n",
    "model.add(MaxPooling2D(pool_size=(2,2),strides=2,padding='valid'))\n",
    "\n",
    "model.add(Conv2D(128,kernel_size=(3,3),padding='valid',activation='relu'))\n",
    "\n",
    "model.add(MaxPooling2D(pool_size=(2,2),strides=2,padding='valid'))\n",
    "\n",
    "model.add(Flatten())\n",
    "\n",
    "model.add(Dense(128,activation='relu'))\n",
    "\n",
    "model.add(Dense(64,activation='relu'))\n",
    "\n",
    "model.add(Dense(1,activation='sigmoid'))"
   ]
  },
  {
   "cell_type": "markdown",
   "id": "07f06f9c",
   "metadata": {},
   "source": [
    "### Getting model summary"
   ]
  },
  {
   "cell_type": "code",
   "execution_count": 5,
   "id": "2c4e04a0",
   "metadata": {},
   "outputs": [
    {
     "name": "stdout",
     "output_type": "stream",
     "text": [
      "Model: \"sequential\"\n",
      "_________________________________________________________________\n",
      " Layer (type)                Output Shape              Param #   \n",
      "=================================================================\n",
      " conv2d (Conv2D)             (None, 398, 1198, 32)     896       \n",
      "                                                                 \n",
      " max_pooling2d (MaxPooling2  (None, 199, 599, 32)      0         \n",
      " D)                                                              \n",
      "                                                                 \n",
      " conv2d_1 (Conv2D)           (None, 197, 597, 64)      18496     \n",
      "                                                                 \n",
      " max_pooling2d_1 (MaxPoolin  (None, 98, 298, 64)       0         \n",
      " g2D)                                                            \n",
      "                                                                 \n",
      " conv2d_2 (Conv2D)           (None, 96, 296, 128)      73856     \n",
      "                                                                 \n",
      " max_pooling2d_2 (MaxPoolin  (None, 48, 148, 128)      0         \n",
      " g2D)                                                            \n",
      "                                                                 \n",
      " flatten (Flatten)           (None, 909312)            0         \n",
      "                                                                 \n",
      " dense (Dense)               (None, 128)               116392064 \n",
      "                                                                 \n",
      " dense_1 (Dense)             (None, 64)                8256      \n",
      "                                                                 \n",
      " dense_2 (Dense)             (None, 1)                 65        \n",
      "                                                                 \n",
      "=================================================================\n",
      "Total params: 116493633 (444.39 MB)\n",
      "Trainable params: 116493633 (444.39 MB)\n",
      "Non-trainable params: 0 (0.00 Byte)\n",
      "_________________________________________________________________\n"
     ]
    }
   ],
   "source": [
    "model.summary()"
   ]
  },
  {
   "cell_type": "markdown",
   "id": "924aab39",
   "metadata": {},
   "source": [
    "### Compiling the model"
   ]
  },
  {
   "cell_type": "markdown",
   "id": "14b1c80d",
   "metadata": {},
   "source": [
    "## Fitting model "
   ]
  },
  {
   "cell_type": "code",
   "execution_count": 7,
   "id": "bb139871",
   "metadata": {},
   "outputs": [
    {
     "name": "stdout",
     "output_type": "stream",
     "text": [
      "Epoch 1/10\n",
      "WARNING:tensorflow:From C:\\Users\\sanga\\anaconda3\\Lib\\site-packages\\keras\\src\\utils\\tf_utils.py:492: The name tf.ragged.RaggedTensorValue is deprecated. Please use tf.compat.v1.ragged.RaggedTensorValue instead.\n",
      "\n",
      "WARNING:tensorflow:From C:\\Users\\sanga\\anaconda3\\Lib\\site-packages\\keras\\src\\engine\\base_layer_utils.py:384: The name tf.executing_eagerly_outside_functions is deprecated. Please use tf.compat.v1.executing_eagerly_outside_functions instead.\n",
      "\n",
      "113/113 [==============================] - 474s 4s/step - loss: 1.2064 - accuracy: 0.5867 - val_loss: 0.7992 - val_accuracy: 0.6917\n",
      "Epoch 2/10\n",
      "113/113 [==============================] - 273s 2s/step - loss: 0.5078 - accuracy: 0.7756 - val_loss: 0.4617 - val_accuracy: 0.8083\n",
      "Epoch 3/10\n",
      "113/113 [==============================] - 270s 2s/step - loss: 0.3798 - accuracy: 0.8711 - val_loss: 0.2599 - val_accuracy: 0.9167\n",
      "Epoch 4/10\n",
      "113/113 [==============================] - 267s 2s/step - loss: 0.1415 - accuracy: 0.9489 - val_loss: 0.2621 - val_accuracy: 0.9500\n",
      "Epoch 5/10\n",
      "113/113 [==============================] - 283s 3s/step - loss: 0.0948 - accuracy: 0.9822 - val_loss: 0.1114 - val_accuracy: 0.9583\n",
      "Epoch 6/10\n",
      "113/113 [==============================] - 269s 2s/step - loss: 0.0388 - accuracy: 0.9933 - val_loss: 0.2090 - val_accuracy: 0.9417\n",
      "Epoch 7/10\n",
      "113/113 [==============================] - 272s 2s/step - loss: 0.0034 - accuracy: 1.0000 - val_loss: 0.2705 - val_accuracy: 0.9417\n",
      "Epoch 8/10\n",
      "113/113 [==============================] - 272s 2s/step - loss: 1.9777e-04 - accuracy: 1.0000 - val_loss: 0.2099 - val_accuracy: 0.9583\n",
      "Epoch 9/10\n",
      "113/113 [==============================] - 281s 2s/step - loss: 5.2453e-05 - accuracy: 1.0000 - val_loss: 0.2071 - val_accuracy: 0.9583\n",
      "Epoch 10/10\n",
      "113/113 [==============================] - 274s 2s/step - loss: 2.8605e-05 - accuracy: 1.0000 - val_loss: 0.2051 - val_accuracy: 0.9583\n"
     ]
    }
   ],
   "source": [
    "history = model.fit(train_ds,epochs=10,validation_data=validation_ds)"
   ]
  },
  {
   "cell_type": "code",
   "execution_count": 9,
   "id": "aed64ae0",
   "metadata": {},
   "outputs": [
    {
     "data": {
      "image/png": "[encoded data removed]",
      "text/plain": [
       "<Figure size 640x480 with 1 Axes>"
      ]
     },
     "metadata": {},
     "output_type": "display_data"
    }
   ],
   "source": [
    "import matplotlib.pyplot as plt\n",
    "    \n",
    "plt.plot(history.history['accuracy'],color='green',label='train acc')\n",
    "plt.plot(history.history['val_accuracy'],color='blue',label='validation acc')\n",
    "plt.plot(history.history['loss'],color='red',label='train loss')\n",
    "plt.plot(history.history['val_loss'],color='yellow',label='validation loss')\n",
    "plt.legend()\n",
    "plt.show()"
   ]
  },
  {
   "cell_type": "markdown",
   "id": "dd3471db",
   "metadata": {},
   "source": [
    "## Saving model to the disk, type = h5"
   ]
  },
  {
   "cell_type": "code",
   "execution_count": 10,
   "id": "492bd5e9",
   "metadata": {},
   "outputs": [
    {
     "name": "stdout",
     "output_type": "stream",
     "text": [
      "[INFO] saving ID detector model...\n"
     ]
    },
    {
     "name": "stderr",
     "output_type": "stream",
     "text": [
      "C:\\Users\\sanga\\anaconda3\\Lib\\site-packages\\keras\\src\\engine\\training.py:3103: UserWarning: You are saving your model as an HDF5 file via `model.save()`. This file format is considered legacy. We recommend using instead the native Keras format, e.g. `model.save('my_model.keras')`.\n",
      "  saving_api.save_model(\n"
     ]
    },
    {
     "name": "stdout",
     "output_type": "stream",
     "text": [
      "saved\n"
     ]
    }
   ],
   "source": [
    "print(\"[INFO] saving ID detector model...\")\n",
    "model.save(\"detector.model\", save_format=\"h5\")\n",
    "print(\"saved\")"
   ]
  },
  {
   "cell_type": "markdown",
   "id": "34a7a719",
   "metadata": {},
   "source": [
    "## saving model in .keras"
   ]
  },
  {
   "cell_type": "code",
   "execution_count": 30,
   "id": "28a6d250",
   "metadata": {},
   "outputs": [
    {
     "name": "stdout",
     "output_type": "stream",
     "text": [
      "saved\n"
     ]
    }
   ],
   "source": [
    "model.save(\"my_model.keras\")\n",
    "print(\"saved\")"
   ]
  },
  {
   "cell_type": "code",
   "execution_count": null,
   "id": "8f3fb019",
   "metadata": {},
   "outputs": [],
   "source": []
  }
 ],
 "metadata": {
  "kernelspec": {
   "display_name": "Python 3 (ipykernel)",
   "language": "python",
   "name": "python3"
  },
  "language_info": {
   "codemirror_mode": {
    "name": "ipython",
    "version": 3
   },
   "file_extension": ".py",
   "mimetype": "text/x-python",
   "name": "python",
   "nbconvert_exporter": "python",
   "pygments_lexer": "ipython3",
   "version": "3.11.5"
  }
 },
 "nbformat": 4,
 "nbformat_minor": 5
}
